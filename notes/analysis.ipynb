{
 "cells": [
  {
   "cell_type": "code",
   "execution_count": 1,
   "metadata": {},
   "outputs": [],
   "source": [
    "# path imports\n",
    "import os\n",
    "import sys\n",
    "root = os.path.abspath('/home/mbeliaev/home/code/Potential_game_gifting/')\n",
    "sys.path.append(root)\n",
    "# general imports\n",
    "import json\n",
    "import argparse\n",
    "# specific imports\n",
    "import numpy as np\n",
    "import matplotlib.pyplot as plt\n",
    "# local imports\n",
    "from utils import game_2p\n",
    "# path setup\n",
    "\n"
   ]
  },
  {
   "cell_type": "markdown",
   "metadata": {},
   "source": [
    "Lets go over a varied range of risk and gift values, accumilating the results."
   ]
  },
  {
   "cell_type": "code",
   "execution_count": 2,
   "metadata": {},
   "outputs": [
    {
     "ename": "KeyboardInterrupt",
     "evalue": "",
     "output_type": "error",
     "traceback": [
      "\u001b[0;31m---------------------------------------------------------------------------\u001b[0m",
      "\u001b[0;31mKeyboardInterrupt\u001b[0m                         Traceback (most recent call last)",
      "Input \u001b[0;32mIn [2]\u001b[0m, in \u001b[0;36m<cell line: 6>\u001b[0;34m()\u001b[0m\n\u001b[1;32m      9\u001b[0m gift \u001b[38;5;241m=\u001b[39m gifts[i_gift]\n\u001b[1;32m     10\u001b[0m \u001b[38;5;66;03m# collect data for each run\u001b[39;00m\n\u001b[0;32m---> 11\u001b[0m _, datax, _ \u001b[38;5;241m=\u001b[39m \u001b[43mgame_2p\u001b[49m\u001b[38;5;241;43m.\u001b[39;49m\u001b[43mplay_game\u001b[49m\u001b[43m(\u001b[49m\u001b[43msize\u001b[49m\u001b[43m,\u001b[49m\u001b[43m \u001b[49m\u001b[43mrisk\u001b[49m\u001b[43m,\u001b[49m\u001b[43m \u001b[49m\u001b[43mgift\u001b[49m\u001b[43m)\u001b[49m\n\u001b[1;32m     12\u001b[0m results[i_risk][i_gift] \u001b[38;5;241m=\u001b[39m \u001b[38;5;241m100\u001b[39m\u001b[38;5;241m*\u001b[39m\u001b[38;5;28mlen\u001b[39m(datax)\u001b[38;5;241m/\u001b[39msize\u001b[38;5;241m*\u001b[39m\u001b[38;5;241m*\u001b[39m\u001b[38;5;241m2\u001b[39m\n",
      "File \u001b[0;32m~/home/code/Potential_game_gifting/utils/game_2p.py:33\u001b[0m, in \u001b[0;36mplay_game\u001b[0;34m(size, r, gift)\u001b[0m\n\u001b[1;32m     29\u001b[0m \u001b[38;5;28;01mwhile\u001b[39;00m \u001b[38;5;28;01mTrue\u001b[39;00m:\n\u001b[1;32m     30\u001b[0m     \n\u001b[1;32m     31\u001b[0m     \u001b[38;5;66;03m# Choose strategy based on the potential matrix\u001b[39;00m\n\u001b[1;32m     32\u001b[0m     player1_strategy \u001b[38;5;241m=\u001b[39m np\u001b[38;5;241m.\u001b[39munravel_index(np\u001b[38;5;241m.\u001b[39margmax(player1_potential_matrix), player1_potential_matrix\u001b[38;5;241m.\u001b[39mshape)[\u001b[38;5;241m0\u001b[39m]\n\u001b[0;32m---> 33\u001b[0m     player2_strategy \u001b[38;5;241m=\u001b[39m \u001b[43mnp\u001b[49m\u001b[38;5;241m.\u001b[39munravel_index(np\u001b[38;5;241m.\u001b[39margmax(player2_potential_matrix), player2_potential_matrix\u001b[38;5;241m.\u001b[39mshape)[\u001b[38;5;241m1\u001b[39m]\n\u001b[1;32m     35\u001b[0m     \u001b[38;5;28;01mif\u001b[39;00m (player1_potential_matrix[\u001b[38;5;241m0\u001b[39m, \u001b[38;5;241m0\u001b[39m] \u001b[38;5;241m<\u001b[39m\u001b[38;5;241m=\u001b[39m gift \u001b[38;5;241m-\u001b[39m r) \u001b[38;5;129;01mand\u001b[39;00m (\u001b[38;5;129;01mnot\u001b[39;00m finish): \u001b[38;5;66;03m# Make player1 hunt if it knows that player2 will hunt\u001b[39;00m\n\u001b[1;32m     36\u001b[0m         player1_strategy \u001b[38;5;241m=\u001b[39m \u001b[38;5;241m1\u001b[39m\n",
      "\u001b[0;31mKeyboardInterrupt\u001b[0m: "
     ]
    }
   ],
   "source": [
    "size = 100\n",
    "risks = np.arange(-10,-2,1)\n",
    "gifts = np.arange(0,11,1)\n",
    "results = np.zeros((len(risks),len(gifts)))\n",
    "\n",
    "for i_risk in risks:\n",
    "    risk = risks[i_risk]\n",
    "    for i_gift in gifts:\n",
    "        gift = gifts[i_gift]\n",
    "        # collect data for each run\n",
    "        _, datax, _ = game_2p.play_game(size, risk, gift)\n",
    "        results[i_risk][i_gift] = 100*len(datax)/size**2\n",
    "\n"
   ]
  },
  {
   "cell_type": "code",
   "execution_count": null,
   "metadata": {},
   "outputs": [],
   "source": [
    "fig = plt.figure(4,4)\n",
    "ax = fig.add_subplot(111)\n",
    "\n",
    "ax.imshow(results,origin='lower',vmin=0,vmax=100,cmap='greens')\n",
    "ax.set_ylabel('Risk $r \\\\rightarrow$',labelpad=2)\n",
    "ax.set_xlabel('Gifting $\\\\Gamma \\\\rightarrow$',labelpad=3)\n",
    "plt.savefig('test.pdf')"
   ]
  }
 ],
 "metadata": {
  "kernelspec": {
   "display_name": "robust",
   "language": "python",
   "name": "python3"
  },
  "language_info": {
   "codemirror_mode": {
    "name": "ipython",
    "version": 3
   },
   "file_extension": ".py",
   "mimetype": "text/x-python",
   "name": "python",
   "nbconvert_exporter": "python",
   "pygments_lexer": "ipython3",
   "version": "3.8.5"
  }
 },
 "nbformat": 4,
 "nbformat_minor": 2
}
